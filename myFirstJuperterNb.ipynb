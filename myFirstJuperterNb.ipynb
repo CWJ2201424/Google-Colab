{
  "nbformat": 4,
  "nbformat_minor": 0,
  "metadata": {
    "colab": {
      "provenance": [],
      "collapsed_sections": [],
      "authorship_tag": "ABX9TyNNvvr0MQHa1+jKdts6B7Jm",
      "include_colab_link": true
    },
    "kernelspec": {
      "name": "python3",
      "display_name": "Python 3"
    },
    "language_info": {
      "name": "python"
    }
  },
  "cells": [
    {
      "cell_type": "markdown",
      "metadata": {
        "id": "view-in-github",
        "colab_type": "text"
      },
      "source": [
        "<a href=\"https://colab.research.google.com/github/CWJ2201424/Google-Colab/blob/main/myFirstJuperterNb.ipynb\" target=\"_parent\"><img src=\"https://colab.research.google.com/assets/colab-badge.svg\" alt=\"Open In Colab\"/></a>"
      ]
    },
    {
      "cell_type": "markdown",
      "source": [
        "* __MatPlot__를 사용하기 위해 라이브러리 임포트 \n",
        "\n",
        "* **MatPlot**를 사용법은 아래 사이트 참조 https://matplotlib.org/\n"
      ],
      "metadata": {
        "id": "DR0EWVSGV2-G"
      }
    },
    {
      "cell_type": "code",
      "source": [
        "import matplotlib.pyplot as plt"
      ],
      "metadata": {
        "id": "aNlxyJvgXyG-"
      },
      "execution_count": 2,
      "outputs": []
    },
    {
      "cell_type": "markdown",
      "source": [
        "<h1>하이라이트 테스트 </hr>\n",
        "\n",
        "**예제 그래프 출력을 위한 데이터 설정**\n",
        "\n",
        "* **1) x -> x축 데이터**\n",
        "\n",
        "* **2) y -> y축 데이터** "
      ],
      "metadata": {
        "id": "s_WsxGkIX12X"
      }
    },
    {
      "cell_type": "code",
      "source": [
        "x = [1, 2, 3]\n",
        "y = [4, 8, 12]"
      ],
      "metadata": {
        "id": "MNbqp3ycUABA"
      },
      "execution_count": 3,
      "outputs": []
    },
    {
      "cell_type": "markdown",
      "source": [
        "* **x, y축 데이터 박스형**"
      ],
      "metadata": {
        "id": "qeKXPSSBYnge"
      }
    },
    {
      "cell_type": "code",
      "source": [
        "plt.plot(x, y)"
      ],
      "metadata": {
        "colab": {
          "base_uri": "https://localhost:8080/",
          "height": 283
        },
        "id": "f9DRtx8RYmnm",
        "outputId": "662bc91c-b17f-43f3-b9a3-ef28b77a4429"
      },
      "execution_count": 4,
      "outputs": [
        {
          "output_type": "execute_result",
          "data": {
            "text/plain": [
              "[<matplotlib.lines.Line2D at 0x7faeb5da7350>]"
            ]
          },
          "metadata": {},
          "execution_count": 4
        },
        {
          "output_type": "display_data",
          "data": {
            "text/plain": [
              "<Figure size 432x288 with 1 Axes>"
            ],
            "image/png": "[encoded data removed]"
          },
          "metadata": {
            "needs_background": "light"
          }
        }
      ]
    },
    {
      "cell_type": "markdown",
      "source": [
        "**그래프 보여주기**"
      ],
      "metadata": {
        "id": "V1qjx_BlYYrF"
      }
    },
    {
      "cell_type": "code",
      "source": [
        "plt.show()"
      ],
      "metadata": {
        "id": "zCnq24DuYgct"
      },
      "execution_count": 5,
      "outputs": []
    }
  ]
}